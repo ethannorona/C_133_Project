{
  "nbformat": 4,
  "nbformat_minor": 0,
  "metadata": {
    "colab": {
      "name": "C_132_Project_and_C_133_Project.ipynb",
      "provenance": [],
      "authorship_tag": "ABX9TyMAFSQepd/p4iFYL6E2sDZf",
      "include_colab_link": true
    },
    "kernelspec": {
      "name": "python3",
      "display_name": "Python 3"
    },
    "language_info": {
      "name": "python"
    }
  },
  "cells": [
    {
      "cell_type": "markdown",
      "metadata": {
        "id": "view-in-github",
        "colab_type": "text"
      },
      "source": [
        "<a href=\"https://colab.research.google.com/github/ethannorona/C_133_Project/blob/main/C_132_Project_and_C_133_Project.ipynb\" target=\"_parent\"><img src=\"https://colab.research.google.com/assets/colab-badge.svg\" alt=\"Open In Colab\"/></a>"
      ]
    },
    {
      "cell_type": "code",
      "metadata": {
        "colab": {
          "resources": {
            "http://localhost:8080/nbextensions/google.colab/files.js": {
              "data": "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",
              "ok": true,
              "headers": [
                [
                  "content-type",
                  "application/javascript"
                ]
              ],
              "status": 200,
              "status_text": ""
            }
          },
          "base_uri": "https://localhost:8080/",
          "height": 73
        },
        "id": "Fzcy1D70N9B9",
        "outputId": "1084033f-5f89-40b9-b13f-b8d65dca20eb"
      },
      "source": [
        "from google.colab import files\n",
        "data_to_load = files.upload()"
      ],
      "execution_count": 1,
      "outputs": [
        {
          "output_type": "display_data",
          "data": {
            "text/html": [
              "\n",
              "     <input type=\"file\" id=\"files-fca26894-7763-482e-8a1f-ecdfe27b2939\" name=\"files[]\" multiple disabled\n",
              "        style=\"border:none\" />\n",
              "     <output id=\"result-fca26894-7763-482e-8a1f-ecdfe27b2939\">\n",
              "      Upload widget is only available when the cell has been executed in the\n",
              "      current browser session. Please rerun this cell to enable.\n",
              "      </output>\n",
              "      <script src=\"/nbextensions/google.colab/files.js\"></script> "
            ],
            "text/plain": [
              "<IPython.core.display.HTML object>"
            ]
          },
          "metadata": {}
        },
        {
          "output_type": "stream",
          "name": "stdout",
          "text": [
            "Saving star_with_gravity.csv to star_with_gravity.csv\n"
          ]
        }
      ]
    },
    {
      "cell_type": "code",
      "metadata": {
        "id": "8YFX_-uWOHQ1"
      },
      "source": [
        "import pandas as pd\n",
        "import matplotlib.pyplot as plt\n",
        "%matplotlib inline"
      ],
      "execution_count": 2,
      "outputs": []
    },
    {
      "cell_type": "code",
      "metadata": {
        "id": "615qthwVOUNO"
      },
      "source": [
        "df = pd.read_csv(\"star_with_gravity.csv\")"
      ],
      "execution_count": 3,
      "outputs": []
    },
    {
      "cell_type": "code",
      "metadata": {
        "colab": {
          "base_uri": "https://localhost:8080/",
          "height": 203
        },
        "id": "JrMkZ229ObFf",
        "outputId": "df232cc9-1fee-4f93-b3e4-5f436a9d1af3"
      },
      "source": [
        "df.head()"
      ],
      "execution_count": 4,
      "outputs": [
        {
          "output_type": "execute_result",
          "data": {
            "text/html": [
              "<div>\n",
              "<style scoped>\n",
              "    .dataframe tbody tr th:only-of-type {\n",
              "        vertical-align: middle;\n",
              "    }\n",
              "\n",
              "    .dataframe tbody tr th {\n",
              "        vertical-align: top;\n",
              "    }\n",
              "\n",
              "    .dataframe thead th {\n",
              "        text-align: right;\n",
              "    }\n",
              "</style>\n",
              "<table border=\"1\" class=\"dataframe\">\n",
              "  <thead>\n",
              "    <tr style=\"text-align: right;\">\n",
              "      <th></th>\n",
              "      <th>Unnamed: 0</th>\n",
              "      <th>Name</th>\n",
              "      <th>Distance</th>\n",
              "      <th>Mass</th>\n",
              "      <th>Radius</th>\n",
              "      <th>Gravity</th>\n",
              "    </tr>\n",
              "  </thead>\n",
              "  <tbody>\n",
              "    <tr>\n",
              "      <th>0</th>\n",
              "      <td>0</td>\n",
              "      <td>Sun</td>\n",
              "      <td>0.000015813</td>\n",
              "      <td>1.0</td>\n",
              "      <td>1.00</td>\n",
              "      <td>274.269161</td>\n",
              "    </tr>\n",
              "    <tr>\n",
              "      <th>1</th>\n",
              "      <td>1</td>\n",
              "      <td>Sirius</td>\n",
              "      <td>8.6</td>\n",
              "      <td>2.1</td>\n",
              "      <td>1.71</td>\n",
              "      <td>196.971800</td>\n",
              "    </tr>\n",
              "    <tr>\n",
              "      <th>2</th>\n",
              "      <td>2</td>\n",
              "      <td>Canopus</td>\n",
              "      <td>310</td>\n",
              "      <td>15.0</td>\n",
              "      <td>71.00</td>\n",
              "      <td>0.816115</td>\n",
              "    </tr>\n",
              "    <tr>\n",
              "      <th>3</th>\n",
              "      <td>3</td>\n",
              "      <td>Alpha Centauri</td>\n",
              "      <td>4.4</td>\n",
              "      <td>1.1</td>\n",
              "      <td>1.20</td>\n",
              "      <td>209.511165</td>\n",
              "    </tr>\n",
              "    <tr>\n",
              "      <th>4</th>\n",
              "      <td>4</td>\n",
              "      <td>Arcturus</td>\n",
              "      <td>37</td>\n",
              "      <td>1.1</td>\n",
              "      <td>26.00</td>\n",
              "      <td>0.446296</td>\n",
              "    </tr>\n",
              "  </tbody>\n",
              "</table>\n",
              "</div>"
            ],
            "text/plain": [
              "   Unnamed: 0            Name     Distance  Mass  Radius     Gravity\n",
              "0           0             Sun  0.000015813   1.0    1.00  274.269161\n",
              "1           1          Sirius          8.6   2.1    1.71  196.971800\n",
              "2           2         Canopus          310  15.0   71.00    0.816115\n",
              "3           3  Alpha Centauri          4.4   1.1    1.20  209.511165\n",
              "4           4        Arcturus           37   1.1   26.00    0.446296"
            ]
          },
          "metadata": {},
          "execution_count": 4
        }
      ]
    },
    {
      "cell_type": "code",
      "metadata": {
        "colab": {
          "base_uri": "https://localhost:8080/",
          "height": 295
        },
        "id": "-JqBO_yWRv4n",
        "outputId": "c1e17a9e-0fc3-45fc-a8b9-d1edade190ab"
      },
      "source": [
        "from sklearn.cluster import KMeans\n",
        "\n",
        "X = df.iloc[:,[3,4]].values\n",
        "wcss = []\n",
        "for i in range(1, 11):\n",
        "  kmeans = KMeans(n_clusters = i, init = 'k-means++', random_state = 42)\n",
        "  kmeans.fit(X)\n",
        "  wcss.append(kmeans.inertia_)\n",
        "\n",
        "plt.plot(range(1,11), wcss)\n",
        "plt.title(\"The Elbow Method\")\n",
        "plt.xlabel(\"Number of Clusters\")\n",
        "plt.show()"
      ],
      "execution_count": 12,
      "outputs": [
        {
          "output_type": "display_data",
          "data": {
            "image/png": "[encoded data removed]",
            "text/plain": [
              "<Figure size 432x288 with 1 Axes>"
            ]
          },
          "metadata": {
            "needs_background": "light"
          }
        }
      ]
    },
    {
      "cell_type": "code",
      "metadata": {
        "colab": {
          "base_uri": "https://localhost:8080/"
        },
        "id": "Ahym4ASHR44V",
        "outputId": "141d41ad-87fb-4d96-fd3f-d6b966ce25d2"
      },
      "source": [
        "print(X)"
      ],
      "execution_count": 13,
      "outputs": [
        {
          "output_type": "stream",
          "name": "stdout",
          "text": [
            "[[1.0000000e+00 1.0000000e+00]\n",
            " [2.1000000e+00 1.7100000e+00]\n",
            " [1.5000000e+01 7.1000000e+01]\n",
            " [1.1000000e+00 1.2000000e+00]\n",
            " [1.1000000e+00 2.6000000e+01]\n",
            " [2.2000000e+00 2.7000000e+00]\n",
            " [2.6000000e+00 1.2000000e+01]\n",
            " [2.3000000e+01 7.8900000e+01]\n",
            " [1.5000000e+00 1.9000000e+00]\n",
            " [2.0000000e+01 9.5000000e+02]\n",
            " [6.7000000e+00 9.3000000e+00]\n",
            " [1.0500000e+01 8.6000000e+00]\n",
            " [1.8000000e+00 1.8000000e+00]\n",
            " [1.8000000e+01 8.9000000e+00]\n",
            " [1.5000000e+00 4.4000000e+01]\n",
            " [1.2000000e+01 6.8000000e+02]\n",
            " [1.1430000e+01 7.4700000e+00]\n",
            " [1.9000000e+00 8.8000000e+00]\n",
            " [1.9000000e+00 1.8000000e+00]\n",
            " [1.9000000e+01 2.0300000e+02]\n",
            " [1.6000000e+01 8.4000000e+00]\n",
            " [3.8000000e+00 3.1000000e+00]\n",
            " [1.2500000e+01 1.4000000e+01]\n",
            " [1.4500000e+01 8.8000000e+00]\n",
            " [2.8000000e+00 2.4000000e+00]\n",
            " [1.5000000e+00 8.4000000e+01]\n",
            " [8.6000000e+00 5.8000000e+00]\n",
            " [5.0000000e+00 4.2000000e+00]\n",
            " [3.5000000e+00 6.8000000e+00]\n",
            " [3.2000000e+01 4.2000000e+01]\n",
            " [9.0000000e+00 6.0000000e+00]\n",
            " [4.0000000e+00 3.4000000e+00]\n",
            " [2.9000000e+00 4.2000000e+00]\n",
            " [3.3000000e+01 2.0000000e+01]\n",
            " [4.2500000e+00 3.0000000e+01]\n",
            " [8.5000000e+00 6.8000000e+01]\n",
            " [1.7000000e+01 2.0000000e+02]\n",
            " [5.7000000e+00 2.6000000e+01]\n",
            " [3.5000000e+00 6.8000000e+00]\n",
            " [9.0000000e+00 1.3000000e+02]\n",
            " [6.1000000e+00 3.4000000e+00]\n",
            " [2.3900000e+00 2.7700000e+00]\n",
            " [7.0000000e+00 9.2000000e+01]\n",
            " [2.8000000e+00 3.3000000e+00]\n",
            " [5.9000000e+00 4.8000000e+00]\n",
            " [2.4000000e+00 2.9000000e+00]\n",
            " [1.3500000e+01 1.0000000e+01]\n",
            " [5.4000000e+00 3.9000000e+01]\n",
            " [3.0000000e+00 5.0000000e+01]\n",
            " [2.1000000e+00 9.5000000e+01]\n",
            " [1.5000000e+01 1.4000000e+02]\n",
            " [2.8000000e+00 2.8000000e+02]\n",
            " [7.8300000e-01 8.9300000e-01]\n",
            " [9.9100000e-01 1.2200000e+00]\n",
            " [8.2000000e-01 7.4000000e-01]\n",
            " [2.0000000e+01 4.8500000e+02]\n",
            " [1.0000000e+02 8.8100000e+02]\n",
            " [4.5000000e+00 4.4500000e+01]\n",
            " [1.9200000e+01 9.7200000e+02]\n",
            " [1.2700000e+00 1.4800000e+00]\n",
            " [2.2000000e+01 8.0000000e+02]\n",
            " [3.0000000e+01 7.6000000e+01]\n",
            " [1.8200000e+01 7.5000000e+02]\n",
            " [7.0000000e-01 6.6500000e-01]\n",
            " [8.0000000e-01 2.9800000e+02]\n",
            " [1.5900000e+00 3.7400000e+00]\n",
            " [8.5000000e-01 8.5000000e+01]\n",
            " [7.6000000e-01 9.4000000e-01]\n",
            " [1.2000000e+00 3.7000000e+02]\n",
            " [1.3900000e+01 1.1580000e+03]\n",
            " [6.0000000e-01 5.1000000e-01]\n",
            " [5.0000000e-01 4.5000000e+02]\n",
            " [2.0000000e+00 1.4000000e+00]\n",
            " [8.0000000e-01 3.4000000e+00]\n",
            " [1.7000000e+01 1.4200000e+03]\n",
            " [1.0000000e+02 3.2000000e+02]\n",
            " [2.4000000e+01 3.8000000e+02]\n",
            " [7.0000000e+00 7.5500000e+02]\n",
            " [1.4000000e-01 2.0000000e-01]\n",
            " [4.0000000e-02 2.0000000e-02]\n",
            " [1.2000000e-01 1.5000000e-01]\n",
            " [1.4300000e+00 1.5800000e+00]\n",
            " [2.9000000e+02 3.2000000e+01]\n",
            " [1.8900000e+02 2.1100000e+01]\n",
            " [1.9000000e+01 3.9000000e-01]\n",
            " [5.7480000e+01 1.4470000e+01]\n",
            " [1.0100000e+00 9.9000000e-01]\n",
            " [1.6000000e-01 2.1000000e-01]\n",
            " [5.0000000e+01 1.9000000e+03]\n",
            " [7.5000000e-02 1.0000000e-01]\n",
            " [2.0000000e+01 1.6000000e+03]\n",
            " [8.9000000e-02 1.2000000e-01]\n",
            " [7.0000000e-02 8.6000000e-02]\n",
            " [3.0000000e-03 8.6000000e-02]\n",
            " [3.3000000e+01 2.0000000e-01]\n",
            " [4.5820224e-02 1.0173537e-01]\n",
            " [1.8137172e-02 1.6750369e-01]\n",
            " [7.5412452e-02 1.1201167e-01]\n",
            " [2.9592228e-02 1.4797872e-01]\n",
            " [5.1547752e-02 1.0070774e-01]\n",
            " [2.7683052e-02 1.4695109e-01]\n",
            " [4.0092696e-02 9.6597220e-02]\n",
            " [4.0092696e-02 9.6597220e-02]\n",
            " [2.1955524e-02 1.6647606e-01]\n",
            " [1.1455056e-02 1.3359190e-01]\n",
            " [3.8183520e-02 9.6597220e-02]\n",
            " [2.7683052e-02 1.4695109e-01]\n",
            " [4.9638576e-02 1.0070774e-01]\n",
            " [4.9638576e-02 1.0070774e-01]\n",
            " [1.9091760e-02 1.6647606e-01]\n",
            " [1.9091760e-02 1.6544843e-01]\n",
            " [4.4865636e-02 9.9680110e-02]\n",
            " [4.4865636e-02 9.9680110e-02]\n",
            " [1.4318820e-02 1.5722739e-01]\n",
            " [1.9091760e-02 1.6647606e-01]\n",
            " [2.5773876e-02 1.4489583e-01]\n",
            " [3.1501404e-02 1.0173537e-01]\n",
            " [7.4457864e-02 1.1098404e-01]\n",
            " [7.6367040e-02 1.3050901e-01]\n",
            " [6.2048220e-02 1.9524970e-01]\n",
            " [6.2048220e-02 1.9524970e-01]\n",
            " [7.6367040e-02 9.9680110e-02]\n",
            " [4.6774812e-02 9.9680110e-02]\n",
            " [8.4003744e-02 1.1817745e-01]\n",
            " [2.1955524e-02 1.7058658e-01]\n",
            " [4.2956460e-02 9.7624850e-02]\n",
            " [1.7182584e-02 1.3359190e-01]\n",
            " [5.1547752e-02 1.0070774e-01]\n",
            " [6.9684924e-02 1.0687352e-01]\n",
            " [6.9684924e-02 1.4695109e-01]\n",
            " [7.0639512e-02 1.0790115e-01]\n",
            " [5.2502340e-02 3.8844414e-01]\n",
            " [9.7367976e-02 1.3050901e-01]\n",
            " [1.9091760e-02 1.3564716e-01]\n",
            " [2.8637640e-02 9.7624850e-02]\n",
            " [7.6367040e-02 1.1201167e-01]\n",
            " [9.5458800e-02 1.2948138e-01]\n",
            " [3.7228932e-02 2.0244311e-01]\n",
            " [4.5820224e-02 9.9680110e-02]\n",
            " [2.1000936e-02 1.8291814e-01]\n",
            " [6.1093632e-02 1.0276300e-01]\n",
            " [9.9277200e-04 7.3989360e+00]\n",
            " [6.1093632e-02 1.0276300e-01]\n",
            " [2.0046348e-02 1.4181294e-01]\n",
            " [4.4865636e-02 9.9680110e-02]\n",
            " [6.4911984e-02 1.0379063e-01]\n",
            " [5.8229868e-02 1.0379063e-01]\n",
            " [2.6728464e-02 1.4489583e-01]\n",
            " [3.6274344e-02 1.5517213e-01]\n",
            " [5.3456928e-02 1.0173537e-01]\n",
            " [6.3957396e-02 1.0379063e-01]\n",
            " [7.1594100e-02 1.0790115e-01]\n",
            " [6.8730336e-02 1.0584589e-01]\n",
            " [2.4819288e-02 1.0070774e-01]\n",
            " [3.9138108e-02 9.6597220e-02]\n",
            " [3.5319756e-02 9.6597220e-02]\n",
            " [4.1047284e-02 9.6597220e-02]\n",
            " [6.7775748e-02 1.0584589e-01]\n",
            " [1.9187220e-03 6.9878840e+00]\n",
            " [4.2001872e-02 9.6597220e-02]\n",
            " [4.9638576e-02 1.0070774e-01]\n",
            " [4.5820224e-02 1.0173537e-01]\n",
            " [8.4003744e-02 1.1817745e-01]\n",
            " [4.3911048e-02 9.8652480e-02]\n",
            " [5.9184456e-02 1.0276300e-01]\n",
            " [6.1093632e-02 1.0276300e-01]\n",
            " [7.3503276e-02 1.0995641e-01]\n",
            " [4.7729400e-02 1.0070774e-01]\n",
            " [4.0092696e-02 9.6597220e-02]\n",
            " [3.0546816e-02 9.7624850e-02]\n",
            " [4.6774812e-02 9.8652480e-02]\n",
            " [4.2001872e-02 9.6597220e-02]\n",
            " [4.8683988e-02 1.0070774e-01]\n",
            " [2.5773876e-02 1.4489583e-01]\n",
            " [4.6774812e-02 9.9680110e-02]\n",
            " [4.0092696e-02 9.6597220e-02]\n",
            " [7.3503276e-02 1.0995641e-01]\n",
            " [4.1047284e-02 1.0481826e-01]\n",
            " [3.8183520e-02 1.0379063e-01]\n",
            " [6.1093632e-02 1.0276300e-01]\n",
            " [3.4365168e-02 2.4560357e-01]\n",
            " [7.6367040e-03 1.8497340e-01]\n",
            " [8.5912920e-03 1.2742612e-01]\n",
            " [3.1501404e-02 9.8652480e-02]\n",
            " [2.8637640e-02 2.2607860e-01]\n",
            " [3.5319756e-02 1.5414450e-01]\n",
            " [6.1093632e-02 1.0276300e-01]\n",
            " [1.6227996e-02 1.7572473e-01]\n",
            " [4.0092696e-02 9.6597220e-02]\n",
            " [3.9138108e-02 9.6597220e-02]\n",
            " [1.9091760e-03 2.5690750e+00]\n",
            " [4.4865636e-02 1.0070774e-01]\n",
            " [6.0139044e-02 1.0070774e-01]\n",
            " [5.5366104e-02 1.0070774e-01]\n",
            " [6.3957396e-02 1.0379063e-01]\n",
            " [4.8683988e-02 9.9680110e-02]\n",
            " [4.2001872e-02 9.6597220e-02]\n",
            " [6.0139044e-02 1.0276300e-01]\n",
            " [3.0546816e-02 9.8652480e-02]\n",
            " [5.6320692e-02 1.0173537e-01]\n",
            " [2.0046348e-02 1.3564716e-01]\n",
            " [7.2548688e-02 1.0892878e-01]\n",
            " [6.8730336e-02 1.0584589e-01]\n",
            " [8.7822096e-02 1.2228797e-01]\n",
            " [5.6320692e-02 1.0173537e-01]\n",
            " [1.0595927e-02 1.5414450e-01]\n",
            " [8.5912920e-03 1.3359190e-01]\n",
            " [7.1594100e-02 1.0790115e-01]\n",
            " [4.2001872e-02 9.6597220e-02]\n",
            " [4.2001872e-02 9.6597220e-02]\n",
            " [6.5866572e-02 1.0481826e-01]\n",
            " [5.7275280e-02 1.0173537e-01]\n",
            " [7.5412452e-02 1.1098404e-01]\n",
            " [5.4411516e-02 1.0173537e-01]\n",
            " [5.1547752e-02 1.0070774e-01]\n",
            " [6.0139044e-02 1.0276300e-01]\n",
            " [4.2001872e-02 9.6597220e-02]\n",
            " [2.8637640e-02 1.4695109e-01]\n",
            " [6.7775748e-02 1.0584589e-01]\n",
            " [4.0092696e-02 9.6597220e-02]\n",
            " [4.1047284e-02 9.6597220e-02]\n",
            " [6.7775748e-02 1.0584589e-01]\n",
            " [4.6774812e-02 9.9680110e-02]\n",
            " [3.9138108e-02 9.6597220e-02]\n",
            " [6.9684924e-02 1.0687352e-01]\n",
            " [2.2910112e-02 1.4386820e-01]\n",
            " [4.4865636e-02 9.9680110e-02]\n",
            " [4.2956460e-02 9.7624850e-02]\n",
            " [7.3503276e-02 1.0995641e-01]\n",
            " [6.3957396e-02 1.0379063e-01]\n",
            " [9.1640448e-02 1.2537086e-01]\n",
            " [2.3864700e-02 1.9319444e-01]\n",
            " [4.3911048e-02 9.8652480e-02]\n",
            " [6.6821160e-02 1.0481826e-01]\n",
            " [6.5866572e-02 1.0481826e-01]\n",
            " [6.2048220e-03 1.5722739e-01]\n",
            " [8.9731272e-02 1.2434323e-01]\n",
            " [4.3911048e-02 9.8652480e-02]\n",
            " [5.2502340e-02 1.0173537e-01]\n",
            " [2.1000936e-02 1.3667479e-01]\n",
            " [2.5773876e-02 1.4489583e-01]\n",
            " [5.8229868e-02 1.0173537e-01]\n",
            " [4.0092696e-02 9.6597220e-02]\n",
            " [6.9684924e-02 1.0687352e-01]\n",
            " [1.1455056e-02 1.3256427e-01]\n",
            " [2.2910112e-02 1.4284057e-01]\n",
            " [1.6227996e-02 1.6339317e-01]\n",
            " [8.4003744e-02 1.1920508e-01]\n",
            " [7.6367040e-02 1.1201167e-01]\n",
            " [5.7275280e-03 1.2023271e-01]\n",
            " [1.4318820e-02 4.3160460e-01]\n",
            " [9.5458800e-03 3.9049940e-01]\n",
            " [2.8637640e-02 8.8376180e-02]]\n"
          ]
        }
      ]
    },
    {
      "cell_type": "code",
      "metadata": {
        "id": "RJuqg5P4OdC2"
      },
      "source": [
        "mass = df['Mass'].to_list()\n",
        "radius = df['Radius'].to_list()\n",
        "distance = df['Distance'].to_list()\n",
        "gravity = df['Gravity'].to_list()"
      ],
      "execution_count": 5,
      "outputs": []
    },
    {
      "cell_type": "code",
      "metadata": {
        "colab": {
          "base_uri": "https://localhost:8080/",
          "height": 295
        },
        "id": "D6P8oxh2Ouqz",
        "outputId": "24ee6160-180e-4d07-a7c1-c0e84b9f2763"
      },
      "source": [
        "mass.sort()\n",
        "radius.sort()\n",
        "gravity.sort()\n",
        "\n",
        "plt.plot(radius, mass)\n",
        "plt.title(\"Radius and Mass of the Star\")\n",
        "plt.xlabel(\"Radius\")\n",
        "plt.ylabel(\"Mass\")\n",
        "plt.show()"
      ],
      "execution_count": 6,
      "outputs": [
        {
          "output_type": "display_data",
          "data": {
            "image/png": "[encoded data removed]",
            "text/plain": [
              "<Figure size 432x288 with 1 Axes>"
            ]
          },
          "metadata": {
            "needs_background": "light"
          }
        }
      ]
    },
    {
      "cell_type": "code",
      "metadata": {
        "colab": {
          "base_uri": "https://localhost:8080/",
          "height": 295
        },
        "id": "pSZYclY5PKey",
        "outputId": "f22baa61-1982-4417-ab2e-95ee2e8a4c7a"
      },
      "source": [
        "plt.plot(mass, gravity)\n",
        "plt.title(\"Mass and Gravity of the Star\")\n",
        "plt.xlabel(\"Mass\")\n",
        "plt.ylabel(\"Gravity\")\n",
        "plt.show()"
      ],
      "execution_count": 7,
      "outputs": [
        {
          "output_type": "display_data",
          "data": {
            "image/png": "[encoded data removed]",
            "text/plain": [
              "<Figure size 432x288 with 1 Axes>"
            ]
          },
          "metadata": {
            "needs_background": "light"
          }
        }
      ]
    },
    {
      "cell_type": "code",
      "metadata": {
        "colab": {
          "base_uri": "https://localhost:8080/",
          "height": 295
        },
        "id": "9D3lgdDLPYnQ",
        "outputId": "0a4e608b-85eb-486d-e772-b85864963673"
      },
      "source": [
        "plt.scatter(radius, mass)\n",
        "plt.title(\"Radius and Mass of the Star\")\n",
        "plt.xlabel(\"Radius\")\n",
        "plt.ylabel(\"Mass\")\n",
        "plt.show()"
      ],
      "execution_count": 8,
      "outputs": [
        {
          "output_type": "display_data",
          "data": {
            "image/png": "[encoded data removed]",
            "text/plain": [
              "<Figure size 432x288 with 1 Axes>"
            ]
          },
          "metadata": {
            "needs_background": "light"
          }
        }
      ]
    }
  ]
}